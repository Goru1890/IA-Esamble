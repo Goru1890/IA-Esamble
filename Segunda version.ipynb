{
 "cells": [
  {
   "cell_type": "code",
   "execution_count": 1,
   "metadata": {},
   "outputs": [],
   "source": [
    "import csv\n",
    "import pandas\n",
    "from sklearn.tree import DecisionTreeClassifier as clf\n",
    "from sklearn import preprocessing\n",
    "from sklearn import tree\n",
    "import pydotplus\n",
    "from IPython.display import Image\n",
    "from sklearn import metrics\n",
    "import pickle"
   ]
  },
  {
   "cell_type": "code",
   "execution_count": 117,
   "metadata": {},
   "outputs": [
    {
     "name": "stdout",
     "output_type": "stream",
     "text": [
      "Balanced accuracy: 0.6626800426689738\n",
      "Balanced accuracy: 0.6626800426689738\n",
      "Balanced accuracy: 0.6626800426689738\n",
      "Balanced accuracy: 0.6626800426689738\n",
      "Balanced accuracy: 0.6626800426689738\n",
      "Balanced accuracy: 0.6626800426689738\n",
      "Balanced accuracy: 0.6626800426689738\n",
      "Balanced accuracy: 0.6626800426689738\n",
      "Balanced accuracy: 0.6626800426689738\n",
      "Balanced accuracy: 0.6626800426689738\n"
     ]
    }
   ],
   "source": [
    "arboles = []\n",
    "mergeDF(\"adult_train.csv\",\"adult_test.csv\")\n",
    "cod(result) \n",
    "splitDF(result_codificado)\n",
    "for i in range(1,n):\n",
    " bootstr(df)\n",
    " spm(boot,n-1)\n",
    " Selec(boot2,n-1)\n",
    " ARBOL(cc2,cc3)\n",
    " arboles.append(clf_train)\n",
    " SelecTest(df2,ldc)\n",
    " y_pred[2]\n",
    " print(\"Balanced accuracy:\",metrics.balanced_accuracy_score(df2['less_than_50K'], y_pred))"
   ]
  },
  {
   "cell_type": "code",
   "execution_count": 115,
   "metadata": {},
   "outputs": [
    {
     "data": {
      "text/plain": [
       "array([0, 0, 0, ..., 1, 0, 0])"
      ]
     },
     "execution_count": 115,
     "metadata": {},
     "output_type": "execute_result"
    }
   ],
   "source": [
    "y_pred"
   ]
  },
  {
   "cell_type": "code",
   "execution_count": 73,
   "metadata": {},
   "outputs": [
    {
     "data": {
      "text/plain": [
       "10"
      ]
     },
     "execution_count": 73,
     "metadata": {},
     "output_type": "execute_result"
    }
   ],
   "source": [
    "len(arboles)"
   ]
  },
  {
   "cell_type": "code",
   "execution_count": 98,
   "metadata": {
    "scrolled": false
   },
   "outputs": [],
   "source": [
    "#merge de los dos dataframes en uno\n",
    "def mergeDF(at1,at2):\n",
    " df = pandas.read_csv(at1)\n",
    " df2 = pandas.read_csv(at2)\n",
    " frames = [df, df2]\n",
    " result = pandas.concat(frames)\n",
    " return result"
   ]
  },
  {
   "cell_type": "code",
   "execution_count": 99,
   "metadata": {},
   "outputs": [],
   "source": [
    "#pasar el dataframe por un codificador que pasa los elementos a numerico\n",
    "def cod(result):\n",
    " codificadores = []\n",
    " result_codificado = pandas.DataFrame()\n",
    " for variable, valores in result.iteritems():\n",
    "    le = preprocessing.LabelEncoder()\n",
    "    le.fit(valores)\n",
    "    codificadores.append(le)\n",
    "    result_codificado[variable] = le.transform(valores)\n",
    " return result_codificado"
   ]
  },
  {
   "cell_type": "code",
   "execution_count": 100,
   "metadata": {},
   "outputs": [],
   "source": [
    "#Split del dataframe en dos uno del conjunto de entrenamiento y otro para el test\n",
    "def splitDF(result_codificado):\n",
    " df = result_codificado.iloc[:32559,:]\n",
    " df2 = result_codificado.iloc[32560:,:]\n",
    " return df,df2"
   ]
  },
  {
   "cell_type": "code",
   "execution_count": 101,
   "metadata": {},
   "outputs": [],
   "source": [
    "#bootstraping de N rows del dataframe con replazamiento\n",
    "def bootstr(df):\n",
    " boot=(df.sample(df.shape[0],replace=True))\n",
    " return boot"
   ]
  },
  {
   "cell_type": "code",
   "execution_count": 102,
   "metadata": {},
   "outputs": [],
   "source": [
    "#Subspace Method eligiendo 9 columnas + columna del sueldo asegurando que aparezca en el selector random dandole + peso\n",
    "def spm(boot,n):\n",
    " boot2=boot.sample(n, weights=[0.01, 0.01, 0.01, 0.01, 0.01,0.01,0.01,0.01,0.01,0.01,0.01, 0.01,0.89],axis=1)\n",
    " return boot2"
   ]
  },
  {
   "cell_type": "code",
   "execution_count": 103,
   "metadata": {},
   "outputs": [],
   "source": [
    "def Selec(boot2,n):\n",
    " cc2 = boot2.iloc[:,1:n]\n",
    " ldc = boot2.iloc[:,1:n].columns.values\n",
    " cc3 = boot2['less_than_50K']\n",
    " return cc2, ldc, cc3"
   ]
  },
  {
   "cell_type": "code",
   "execution_count": 104,
   "metadata": {},
   "outputs": [],
   "source": [
    "def ARBOL(cc2,cc3):\n",
    " algo=tree.DecisionTreeClassifier()\n",
    " clf_train = algo.fit(cc2,cc3)"
   ]
  },
  {
   "cell_type": "code",
   "execution_count": 105,
   "metadata": {},
   "outputs": [],
   "source": [
    "#seleccionar columnas ldc[0],ldc[1],ldc[2],ldc[3],ldc[4],ldc[5],ldc[6],ldc[7],ldc[8]\n",
    "def SelecTest(df2,ldc):\n",
    " X_test=df2[[ldc[0],ldc[1],ldc[2],ldc[3],ldc[4],ldc[5],ldc[6],ldc[7],ldc[8]]]\n",
    " y_pred = algo.predict(X_test)\n",
    " return y_pred"
   ]
  },
  {
   "cell_type": "code",
   "execution_count": 108,
   "metadata": {},
   "outputs": [
    {
     "name": "stdout",
     "output_type": "stream",
     "text": [
      "Accuracy: 0.7587837837837837\n"
     ]
    }
   ],
   "source": [
    "print(\"Accuracy:\",metrics.accuracy_score(df2['less_than_50K'], y_pred))"
   ]
  },
  {
   "cell_type": "code",
   "execution_count": 109,
   "metadata": {},
   "outputs": [
    {
     "name": "stdout",
     "output_type": "stream",
     "text": [
      "Balanced accuracy: 0.6626800426689738\n"
     ]
    }
   ],
   "source": [
    "print(\"Balanced accuracy:\",metrics.balanced_accuracy_score(df2['less_than_50K'], y_pred))"
   ]
  }
 ],
 "metadata": {
  "kernelspec": {
   "display_name": "Python 3",
   "language": "python",
   "name": "python3"
  },
  "language_info": {
   "codemirror_mode": {
    "name": "ipython",
    "version": 3
   },
   "file_extension": ".py",
   "mimetype": "text/x-python",
   "name": "python",
   "nbconvert_exporter": "python",
   "pygments_lexer": "ipython3",
   "version": "3.7.3"
  }
 },
 "nbformat": 4,
 "nbformat_minor": 2
}
